{
 "cells": [
  {
   "cell_type": "markdown",
   "id": "a427e9b1",
   "metadata": {},
   "source": [
    "# **TELCO CHURN PREDICTION**"
   ]
  },
  {
   "cell_type": "markdown",
   "id": "290ded8c",
   "metadata": {},
   "source": [
    "## **A. All Packages be used on this project**"
   ]
  },
  {
   "cell_type": "code",
   "execution_count": 11,
   "id": "d1b4f77e",
   "metadata": {},
   "outputs": [],
   "source": [
    "# packages\n",
    "import pandas as pd\n",
    "import numpy as np\n",
    "import matplotlib.pyplot as plt\n",
    "from sklearn.model_selection import train_test_split\n",
    "from sklearn.linear_model import LinearRegression\n",
    "from sklearn.metrics import mean_squared_error, r2_score"
   ]
  },
  {
   "cell_type": "markdown",
   "id": "b1b2b58e",
   "metadata": {},
   "source": [
    "## **B. DATASET**"
   ]
  },
  {
   "cell_type": "code",
   "execution_count": 6,
   "id": "4e9e838c",
   "metadata": {},
   "outputs": [],
   "source": [
    "# load dataset\n",
    "from dotenv import load_dotenv\n",
    "import os\n",
    "load_dotenv()  \n",
    "\n",
    "# churn_dataset\n",
    "churn_dataset = os.getenv(\"churn_dataset_path\")\n",
    "df_churn = pd.read_excel(churn_dataset, sheet_name=\"Sheet1\")\n",
    "\n",
    "# LIS_dataset\n",
    "lis_dataset = os.getenv(\"lis_dataset_path\")\n",
    "df_lis = pd.read_excel(lis_dataset, sheet_name=\"lis_telco\")\n"
   ]
  },
  {
   "cell_type": "markdown",
   "id": "0e54d9e9",
   "metadata": {},
   "source": [
    "## **C. DATA PRE-PROCESSING**"
   ]
  },
  {
   "cell_type": "markdown",
   "id": "87eb8755",
   "metadata": {},
   "source": [
    "### **C.1 CHURN DATASET**"
   ]
  },
  {
   "cell_type": "markdown",
   "id": "896c08e6",
   "metadata": {},
   "source": [
    "#### **C.1.1 DATA CLEANING**\n",
    "\n",
    "Pada Section ini kami memilih untuk membuang column yang tidak relevan dengan churn analisis.\n"
   ]
  },
  {
   "cell_type": "code",
   "execution_count": null,
   "id": "4275890b",
   "metadata": {},
   "outputs": [],
   "source": [
    "raw_churn = df_churn.copy()\n",
    "\n",
    "# drop columns that are not relevant to churn analysis\n",
    "raw_churn = raw_churn.drop(columns=['DIVISI','HSI_B2B','ND_HSI_IPTV','NCLI'],axis=1)"
   ]
  },
  {
   "cell_type": "markdown",
   "id": "14b68f01",
   "metadata": {},
   "source": [
    "#### **C.1.2 DATA FORMATTING**"
   ]
  },
  {
   "cell_type": "markdown",
   "id": "d92feeaa",
   "metadata": {},
   "source": [
    "pada section ini, kita akan mengubah data type yang keliru diformat dan ditransform secara default. adapun data yang akan diformat terdapat pada kolom : \n",
    "  * Formatting : [TGL_PSB] dan [TGL_PS] masih bertipe numeric, sehingga perlu di transformasi kedalam tipe date\n",
    "  * Transforming : [UBIS] dengan nilai Business menjadi -> RBS"
   ]
  },
  {
   "cell_type": "code",
   "execution_count": null,
   "id": "aea61996",
   "metadata": {},
   "outputs": [],
   "source": [
    "# Date Handling\n",
    "\n",
    "# 1. convert raw_churn[['TGL_PSB','TGL_PS']] to datetime\n",
    "raw_churn['TGL_PSB'] = pd.to_datetime(raw_churn['TGL_PSB'], format='%Y%m%d')\n",
    "raw_churn['TGL_PS'] = pd.to_datetime(raw_churn['TGL_PS'], format='%Y%m%d')\n",
    "\n",
    "# 2. Transform [DIVISI] == 'Business' as 'RBS'\n",
    "raw_churn['UBIS'] = raw_churn.loc[raw_churn['UBIS'] == 'Business', 'DIVISI'] = 'RBS'"
   ]
  },
  {
   "cell_type": "code",
   "execution_count": 88,
   "id": "368c44c9",
   "metadata": {},
   "outputs": [
    {
     "data": {
      "application/vnd.microsoft.datawrangler.viewer.v0+json": {
       "columns": [
        {
         "name": "CITEM",
         "rawType": "object",
         "type": "string"
        },
        {
         "name": "count",
         "rawType": "int64",
         "type": "integer"
        }
       ],
       "ref": "235b30b0-ff36-4a79-ac53-a2ff5acf9781",
       "rows": [
        [
         "WM_20M",
         "2566"
        ],
        [
         "HSIEF20M",
         "975"
        ],
        [
         "HSIEF30M",
         "963"
        ],
        [
         "HSIEF50M",
         "684"
        ],
        [
         "HSIE50M",
         "513"
        ],
        [
         "HOMEWIFI",
         "499"
        ],
        [
         "INETNLOY20",
         "434"
        ],
        [
         "INETFN30M",
         "384"
        ],
        [
         "HSIEF10M",
         "330"
        ],
        [
         "HSIEF100M",
         "274"
        ],
        [
         "INETNLOY50",
         "226"
        ],
        [
         "HSIE100M",
         "220"
        ],
        [
         "INETNLOY10",
         "207"
        ],
        [
         "WM_50M",
         "181"
        ],
        [
         "INETNLOY100",
         "178"
        ],
        [
         "HOMEWIFIE",
         "169"
        ],
        [
         "HSIEF40M",
         "145"
        ],
        [
         "INETF20M",
         "139"
        ],
        [
         "HSIE300M",
         "138"
        ],
        [
         "INETNLOY40",
         "109"
        ],
        [
         "INETNLOY30",
         "107"
        ],
        [
         "INETFN50M",
         "99"
        ],
        [
         "INETFN20M",
         "88"
        ],
        [
         "INETF100M",
         "86"
        ],
        [
         "HSIE200M",
         "78"
        ],
        [
         "HSIE75M",
         "71"
        ],
        [
         "INETR1M3",
         "57"
        ],
        [
         "INETF50M",
         "55"
        ],
        [
         "HSIE150M",
         "55"
        ],
        [
         "INETFN100M",
         "48"
        ],
        [
         "NEWHOMEWF",
         "41"
        ],
        [
         "INETBHOME",
         "41"
        ],
        [
         "WM_100M",
         "40"
        ],
        [
         "INETFN200M",
         "33"
        ],
        [
         "HSIEF200M",
         "33"
        ],
        [
         "HSIEF300M",
         "31"
        ],
        [
         "INETFN300M",
         "27"
        ],
        [
         "INETNLOY300",
         "26"
        ],
        [
         "INETNLOY200",
         "22"
        ],
        [
         "FLAG_INB",
         "22"
        ],
        [
         "HSIEF75M",
         "21"
        ],
        [
         "INETF10M",
         "21"
        ],
        [
         "INETBHOMEE",
         "19"
        ],
        [
         "INETC100M",
         "19"
        ],
        [
         "INETR512K3",
         "19"
        ],
        [
         "INETFN40M",
         "18"
        ],
        [
         "INETNLOYL10",
         "18"
        ],
        [
         "INETFL30M",
         "16"
        ],
        [
         "INET SOD",
         "15"
        ],
        [
         "INET512RH",
         "14"
        ]
       ],
       "shape": {
        "columns": 1,
        "rows": 110
       }
      },
      "text/plain": [
       "CITEM\n",
       "WM_20M        2566\n",
       "HSIEF20M       975\n",
       "HSIEF30M       963\n",
       "HSIEF50M       684\n",
       "HSIE50M        513\n",
       "              ... \n",
       "INETR3M          1\n",
       "INETG1M          1\n",
       "INETFNL30M       1\n",
       "INETR100M3       1\n",
       "INET_1MB_H       1\n",
       "Name: count, Length: 110, dtype: int64"
      ]
     },
     "execution_count": 88,
     "metadata": {},
     "output_type": "execute_result"
    }
   ],
   "source": [
    "raw_churn['CITEM'].value_counts()"
   ]
  },
  {
   "cell_type": "markdown",
   "id": "0afd2e50",
   "metadata": {},
   "source": [
    "#### **C.1.3 DATA CLASSIFICATION**"
   ]
  },
  {
   "cell_type": "markdown",
   "id": "2c64eea9",
   "metadata": {},
   "source": [
    "* Mapping kategori Length of Stay pada  df_churn ['LENGTH OF STAY CAT'] adalah sebagai berikut : \n",
    "  - < 6 Bulan = 1-6 months\n",
    "  - 6 - 12 Bulan = 7-12 months \n",
    "  - 1-2 Tahun = 13-24 months\n",
    "  - 2-3 Tahun = 25-36 months\n",
    "  - 3-4 Tahun = 37-48 months\n",
    "  - 4-5 Tahun = 49-60 months\n",
    "  - &gt; 5 tahun = > 60 months\n"
   ]
  },
  {
   "cell_type": "code",
   "execution_count": null,
   "id": "96612d3f",
   "metadata": {},
   "outputs": [
    {
     "name": "stdout",
     "output_type": "stream",
     "text": [
      "         TGL_PSB     TGL_PS\n",
      "1079  2023-03-03 2025-02-20\n",
      "1472  2023-03-06 2025-02-23\n",
      "2172  2022-08-19 2024-08-08\n",
      "2309         NaT 2023-02-02\n",
      "2329         NaT 2024-02-13\n",
      "...          ...        ...\n",
      "12378        NaT 2023-07-10\n",
      "12448        NaT 2023-01-03\n",
      "12475        NaT 2025-04-11\n",
      "12553        NaT 2024-01-30\n",
      "12636        NaT 2023-01-26\n",
      "\n",
      "[155 rows x 2 columns]\n"
     ]
    }
   ],
   "source": [
    "# expected output : map all not null value in TGL_PSB and TGL_PS to \"Length of Stay Cat\"\n",
    "# make a new column MONTH_DIFF\n",
    "raw_churn['MONTH_DIFF'] = ((raw_churn['TGL_PS'].dt.year - raw_churn['TGL_PSB'].dt.year) * 12) + (raw_churn['TGL_PS'].dt.month - raw_churn['TGL_PSB'].dt.month)\n",
    "\n",
    "# do mapping -> see the map_lenth_of_stay function on python_function folder\n",
    "import sys\n",
    "sys.path.append('../python_function') \n",
    "from length_of_stay_map import map_length_of_stay\n",
    "\n",
    "raw_churn['LENGTH OF STAY CAT'] = map_length_of_stay(raw_churn['MONTH_DIFF'])\n",
    "\n",
    "# check the result\n",
    "print(raw_churn.loc[df_churn['LENGTH OF STAY CAT']=='Unidentified',['TGL_PSB','TGL_PS']])"
   ]
  },
  {
   "cell_type": "markdown",
   "id": "cddca5b4",
   "metadata": {},
   "source": [
    "### **C.2 LIS DATASET**"
   ]
  },
  {
   "cell_type": "markdown",
   "id": "8ee0368e",
   "metadata": {},
   "source": [
    "#### **C.2.1 DATA CLEANING**"
   ]
  },
  {
   "cell_type": "markdown",
   "id": "07649434",
   "metadata": {},
   "source": [
    "Pada Section ini kami memilih untuk membuang column yang tidak relevan dengan churn analisis. selain itu, kami juga melakukan dropping segment pelanggan yang bukan RBS ([UNIT2] != 'RBS')"
   ]
  },
  {
   "cell_type": "code",
   "execution_count": null,
   "id": "b172e5dc",
   "metadata": {},
   "outputs": [],
   "source": [
    "raw_lis = df_lis.copy()\n",
    "\n",
    "# 1. drop unecessary columns\n",
    "raw_lis = raw_lis.drop(columns=['KW_IH','AMBANG','NCLI','CITEM','PRODTYPE','IS_INDIHOME','CEK_WICO','PERIOD','PERIOD_PS','UNIT','CEK_LGEST','INET_BASIC','LGEST','PACK_NAME','PLBLCL','Rev (Rp M)','TREMS_REV_P','ADDON','ALAMAT','AMBANG2','ASSET_ROWID','BA_ROWID','BLN_TGK','CA_ROWID','Calculation2','CEK_CGEST','CEK_2P','CEK_3P','CEK_HSIE','CEK_HSSP','CEK_HSSP (copy)','CEK_LOY','CEK_P_HSI','CEK_TO','CGEST','CITEM_EXT','EKOSISTEM','EMAIL','F_PRIORITY','F_PRIORITY_DESC','GROUP_HSIE','GROUP_PRO_HW','GRP_PRODUK','HARGA_HSI','HARGA_ONT','HSIE RECOM','HSSP RECOM','IHOME_INV','INET_OTHERS','IPSTATIC','JKW1','JKW2','JKW3','JKW4','KET_MIGRASI','KET_RESL','KET_SELLER','KW_IH2','KW_POTS','KW_UM_TXT','KW_UMUR','L_AMBANG','L_KW_UMUR','LINECATS_ITEM_ID','LINKAR','LOY_PROGRAM','NAMA','NAMA_AM','ND_REFERENCE','NDOS','NIK_AM','NIPNAS','NO_HP','P_DIGITAL','PKW1','PKW2','PKW3','PKW4','PRIO_MIG','PRIORITAS_MIG','PRIORITY','PRODUK2','REALM','RECOM_DIGI','REV (Jt)','REV INET(M)','REV VOICE (M)','REV_TXT','REV(M)','REVENUE_ADDON_INET','REVENUE_ADDON_TV','REVENUE_INET','REVENUE_TV','RID','ROOT_ASSET_ID','SELISIH','SELISIH2','SPEED','TAG_OTHER','TAHUN_PS','TECHNO','titik','TOT_TGK','TREMS_REV','TREMS_REV_REF','UNIT (copy)','UMUR PLG (Th)'],axis=1)\n",
    "\n",
    "\n",
    "# 2. drop rows with not RBS values in ['UNIT2']\n",
    "raw_lis =raw_lis[raw_lis['UNIT2'] == \"RBS\"]"
   ]
  },
  {
   "cell_type": "markdown",
   "id": "05820976",
   "metadata": {},
   "source": [
    "#### **C.2.2 MISSING VALUES HANDLING**"
   ]
  },
  {
   "cell_type": "markdown",
   "id": "509d5e11",
   "metadata": {},
   "source": [
    "pada section ini, missing values pada kolom berikut : ['ADDON_PRICE','ADDON_TOTAL','IS_IPTV','IS_POTS'] akan kita ubah menjadi 0 "
   ]
  },
  {
   "cell_type": "code",
   "execution_count": 98,
   "id": "088cab91",
   "metadata": {},
   "outputs": [],
   "source": [
    "# missing values handling\n",
    "\n",
    "# 1. missing values in ['ADDON_PRICE'] will be replaced with 0\n",
    "raw_lis['ADDON_PRICE'] = raw_lis['ADDON_PRICE'].fillna(0)\n",
    "\n",
    "# 2. missing values in ['ADDON_TOTAL'] will be replaced with 0\n",
    "raw_lis['ADDON_TOTAL'] = raw_lis['ADDON_TOTAL'].fillna(0)\n",
    "\n",
    "# 3. missing values in ['IS_IPTV'] will be replaced with 0\n",
    "raw_lis['IS_IPTV'] = raw_lis['IS_IPTV'].fillna(0)\n",
    "\n",
    "# 4. missing values in ['IS_POTS'] will be replaced with 0\n",
    "raw_lis['IS_POTS'] = raw_lis['IS_POTS'].fillna(0)\n"
   ]
  },
  {
   "cell_type": "markdown",
   "id": "17c9c5a7",
   "metadata": {},
   "source": [
    "#### **C.2.3 DATA FORMATTING & TRANSFORMING**"
   ]
  },
  {
   "cell_type": "markdown",
   "id": "d8324adb",
   "metadata": {},
   "source": [
    "pada section ini, kita akan mengubah data type yang keliru diformat dan ditransform secara default. adapun data yang akan diformat terdapat pada kolom : \n",
    "  - Formatting : [TGL_PS] -> should be formatted as date\n",
    "  - Formatting : [NOTEL] -> should be formatted as int64\n",
    "  - Transforming : [BW] -> BW_NULL should be stored as 0 then format data type as int64"
   ]
  },
  {
   "cell_type": "code",
   "execution_count": null,
   "id": "9aa3951b",
   "metadata": {},
   "outputs": [],
   "source": [
    "# Remove '_DEL' substring from NOTEL values\n",
    "raw_lis['NOTEL'] = raw_lis['NOTEL'].astype(str).str.replace('_DEL', '', regex=False)\n",
    "\n",
    "# Convert NOTEL to numeric (Int64)\n",
    "raw_lis['NOTEL'] = pd.to_numeric(raw_lis['NOTEL'], errors='coerce').astype('Int64')"
   ]
  },
  {
   "cell_type": "code",
   "execution_count": 101,
   "id": "0497f73b",
   "metadata": {},
   "outputs": [],
   "source": [
    "# data formatting\n",
    "\n",
    "# 1. convert 'TGL_PS' from object to date\n",
    "raw_lis['TGL_PS'] = pd.to_datetime(raw_lis['TGL_PS'], format='%m/%d/%Y %I:%M:%S %p')\n",
    "\n",
    "# 2.1 Remove '_DEL' substring from NOTEL values\n",
    "raw_lis['NOTEL'] = raw_lis['NOTEL'].astype(str).str.replace('_DEL', '', regex=False)\n",
    "# 2.2 Convert NOTEL to numeric (Int64)\n",
    "raw_lis['NOTEL'] = pd.to_numeric(raw_lis['NOTEL'], errors='coerce').astype('Int64')\n",
    "\n",
    "# 3. transform ['Speed (MBps)'] == 'BW_NULL' as 0\n",
    "raw_lis['Speed (MBps)'] = raw_lis.loc[raw_lis['Speed (MBps)'] == 'BW_NULL', 'Speed (MBps)'] = 0\n"
   ]
  },
  {
   "cell_type": "markdown",
   "id": "e1126df3",
   "metadata": {},
   "source": [
    "#### **C.2.4 HANDLING DUPLICATE VALUES IN PRIMARY KEY**\n",
    "\n",
    "kami memilih untuk melakukan drop pada duplicate value di primary key ['NOTEL'] dengan melakukan kriteria data yang di drop adalah data ['NOTEL'] dengan tanggal PS terlama."
   ]
  },
  {
   "cell_type": "code",
   "execution_count": 117,
   "id": "4dac55c1",
   "metadata": {},
   "outputs": [],
   "source": [
    "# drop duplicate rows based on NOTEL and keep only the row with the smallest value in ['UMUR_PSB']\n",
    "\n",
    "raw_lis = raw_lis.sort_values('UMUR_PSB').drop_duplicates(subset=['NOTEL'], keep='first')"
   ]
  }
 ],
 "metadata": {
  "kernelspec": {
   "display_name": ".venv",
   "language": "python",
   "name": "python3"
  },
  "language_info": {
   "codemirror_mode": {
    "name": "ipython",
    "version": 3
   },
   "file_extension": ".py",
   "mimetype": "text/x-python",
   "name": "python",
   "nbconvert_exporter": "python",
   "pygments_lexer": "ipython3",
   "version": "3.13.0"
  }
 },
 "nbformat": 4,
 "nbformat_minor": 5
}

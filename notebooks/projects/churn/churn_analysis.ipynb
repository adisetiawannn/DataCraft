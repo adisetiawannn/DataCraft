{
 "cells": [
  {
   "cell_type": "markdown",
   "id": "a427e9b1",
   "metadata": {},
   "source": [
    "# **TELCO CHURN PREDICTION**"
   ]
  },
  {
   "cell_type": "markdown",
   "id": "290ded8c",
   "metadata": {},
   "source": [
    "## **A. All Packages be used on this project**"
   ]
  },
  {
   "cell_type": "code",
   "execution_count": 6,
   "id": "d1b4f77e",
   "metadata": {},
   "outputs": [],
   "source": [
    "# packages\n",
    "import pandas as pd\n",
    "import numpy as np\n",
    "import matplotlib.pyplot as plt\n",
    "from sklearn.model_selection import train_test_split\n",
    "from sklearn.linear_model import LinearRegression\n",
    "from sklearn.metrics import mean_squared_error, r2_score"
   ]
  },
  {
   "cell_type": "markdown",
   "id": "b1b2b58e",
   "metadata": {},
   "source": [
    "## **B. DATASET**"
   ]
  },
  {
   "cell_type": "code",
   "execution_count": 69,
   "id": "4e9e838c",
   "metadata": {},
   "outputs": [],
   "source": [
    "# load dataset\n",
    "from dotenv import load_dotenv\n",
    "import os\n",
    "load_dotenv()  \n",
    "\n",
    "# churn_dataset\n",
    "churn_dataset = os.getenv(\"churn_dataset\")\n",
    "df_churn = pd.read_excel(churn_dataset, sheet_name=\"Sheet1\")\n",
    "\n",
    "# LIS_dataset\n",
    "lis_dataset = os.getenv(\"lis_dataset_1\")\n",
    "df_lis = pd.read_excel(lis_dataset, sheet_name=\"lis_telco\")\n"
   ]
  },
  {
   "cell_type": "markdown",
   "id": "0e54d9e9",
   "metadata": {},
   "source": [
    "## **C. DATA PRE-PROCESSING**"
   ]
  },
  {
   "cell_type": "markdown",
   "id": "87eb8755",
   "metadata": {},
   "source": [
    "### **C.1 CHURN DATASET**"
   ]
  },
  {
   "cell_type": "markdown",
   "id": "14b68f01",
   "metadata": {},
   "source": [
    "#### **C.1.1 DATA FORMATTING**"
   ]
  },
  {
   "cell_type": "markdown",
   "id": "d92feeaa",
   "metadata": {},
   "source": [
    "* pada dataset raw_churn, data TGL_PSB da TGL_PS masih bertipe numeric, sehingga perlu di transformasi kedalam tipe date"
   ]
  },
  {
   "cell_type": "code",
   "execution_count": 59,
   "id": "aea61996",
   "metadata": {},
   "outputs": [],
   "source": [
    "# Date Handling\n",
    "# convert raw_churn[['TGL_PSB','TGL_PS']] to datetime\n",
    "df_churn = raw_churn.copy()\n",
    "df_churn['TGL_PSB'] = pd.to_datetime(df_churn['TGL_PSB'], format='%Y%m%d')\n",
    "df_churn['TGL_PS'] = pd.to_datetime(df_churn['TGL_PS'], format='%Y%m%d')"
   ]
  },
  {
   "cell_type": "markdown",
   "id": "0afd2e50",
   "metadata": {},
   "source": [
    "#### **C.1.2 DATA CLASSIFICATION**"
   ]
  },
  {
   "cell_type": "markdown",
   "id": "2c64eea9",
   "metadata": {},
   "source": [
    "* Mapping kategori Length of Stay pada  df_churn ['LENGTH OF STAY CAT'] adalah sebagai berikut : \n",
    "  - < 6 Bulan = 1-6 months\n",
    "  - 6 - 12 Bulan = 7-12 months \n",
    "  - 1-2 Tahun = 13-24 months\n",
    "  - 2-3 Tahun = 25-36 months\n",
    "  - 3-4 Tahun = 37-48 months\n",
    "  - 4-5 Tahun = 49-60 months\n",
    "  - &gt; 5 tahun = > 60 months\n"
   ]
  },
  {
   "cell_type": "code",
   "execution_count": 60,
   "id": "96612d3f",
   "metadata": {},
   "outputs": [
    {
     "name": "stdout",
     "output_type": "stream",
     "text": [
      "Empty DataFrame\n",
      "Columns: [TGL_PSB, TGL_PS]\n",
      "Index: []\n"
     ]
    }
   ],
   "source": [
    "# expected output : map all not null value in TGL_PSB and TGL_PS to \"Length of Stay Cat\"\n",
    "\n",
    "# make a new column MONTH_DIFF\n",
    "df_churn['MONTH_DIFF'] = ((df_churn['TGL_PS'].dt.year - df_churn['TGL_PSB'].dt.year) * 12) + (df_churn['TGL_PS'].dt.month - df_churn['TGL_PSB'].dt.month)\n",
    "\n",
    "# do mapping -> see the map_lenth_of_stay function on python_function folder\n",
    "import sys\n",
    "sys.path.append('../python_function') \n",
    "from length_of_stay_map import map_length_of_stay\n",
    "\n",
    "df_churn['LENGTH OF STAY CAT'] = map_length_of_stay(df_churn['MONTH_DIFF'])\n",
    "\n",
    "# check the result\n",
    "print(df_churn.loc[df_churn['LENGTH OF STAY CAT']=='Unidentified',['TGL_PSB','TGL_PS']])"
   ]
  },
  {
   "cell_type": "markdown",
   "id": "cddca5b4",
   "metadata": {},
   "source": [
    "## **C.2 LIS DATASET**"
   ]
  },
  {
   "cell_type": "markdown",
   "id": "8ee0368e",
   "metadata": {},
   "source": [
    "### **C.2.1 DATA CLEANING**"
   ]
  },
  {
   "cell_type": "markdown",
   "id": "07649434",
   "metadata": {},
   "source": [
    "pertama, kita akan cleaning dataset dengan step yang dilakukan :\n",
    "  - membuang kolom yang tidak penting\n",
    "  "
   ]
  },
  {
   "cell_type": "code",
   "execution_count": null,
   "id": "b172e5dc",
   "metadata": {},
   "outputs": [],
   "source": [
    "raw_lis = df_lis.copy()\n",
    "\n",
    "# drop unecessary columns\n",
    "raw_lis = raw_lis.drop(columns=['KW_IH','CITEM','PRODTYPE','IS_INDIHOME','CEK_WICO','PERIOD','PERIOD_PS','UNIT2','CEK_LGEST','INET_BASIC','LGEST','PACK_NAME','PLBLCL','Rev (Rp M)','TREMS_REV_P','ADDON','ALAMAT','AMBANG2','ASSET_ROWID','BA_ROWID','BLN_TGK','CA_ROWID','Calculation2','CEK_CGEST','CEK_2P','CEK_3P','CEK_HSIE','CEK_HSSP','CEK_HSSP (copy)','CEK_LOY','CEK_P_HSI','CEK_TO','CGEST','CITEM_EXT','EKOSISTEM','EMAIL','F_PRIORITY','F_PRIORITY_DESC','GROUP_HSIE','GROUP_PRO_HW','GRP_PRODUK','HARGA_HSI','HARGA_ONT','HSIE RECOM','HSSP RECOM','IHOME_INV','INET_OTHERS','IPSTATIC','JKW1','JKW2','JKW3','JKW4','KET_MIGRASI','KET_RESL','KET_SELLER','KW_IH2','KW_POTS','KW_UM_TXT','KW_UMUR','L_AMBANG','L_KW_UMUR','LINECATS_ITEM_ID','LINKAR','LOY_PROGRAM','NAMA','NAMA_AM','ND_REFERENCE','NDOS','NIK_AM','NIPNAS','NO_HP','P_DIGITAL','PKW1','PKW2','PKW3','PKW4','PRIO_MIG','PRIORITAS_MIG','PRIORITY','PRODUK2','REALM','RECOM_DIGI','REV (Jt)','REV INET(M)','REV VOICE (M)','REV_TXT','REV(M)','REVENUE_ADDON_INET','REVENUE_ADDON_TV','REVENUE_INET','REVENUE_TV','RID','ROOT_ASSET_ID','SELISIH','SELISIH2','SPEED','TAG_OTHER','TAHUN_PS','TECHNO','titik','TOT_TGK','TREMS_REV','TREMS_REV_REF','UNIT (copy)','UMUR PLG (Th)'],axis=1)\n"
   ]
  }
 ],
 "metadata": {
  "kernelspec": {
   "display_name": "Python 3",
   "language": "python",
   "name": "python3"
  },
  "language_info": {
   "codemirror_mode": {
    "name": "ipython",
    "version": 3
   },
   "file_extension": ".py",
   "mimetype": "text/x-python",
   "name": "python",
   "nbconvert_exporter": "python",
   "pygments_lexer": "ipython3",
   "version": "3.13.1"
  }
 },
 "nbformat": 4,
 "nbformat_minor": 5
}

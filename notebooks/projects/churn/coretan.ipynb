{
 "cells": [
  {
   "cell_type": "markdown",
   "id": "f022d898",
   "metadata": {},
   "source": [
    "#### **C.1.3 DATA CLASSIFICATION**"
   ]
  },
  {
   "cell_type": "markdown",
   "id": "e403b23b",
   "metadata": {},
   "source": [
    "* Mapping kategori Length of Stay pada  df_churn ['LENGTH OF STAY CAT'] adalah sebagai berikut : \n",
    "  - < 6 Bulan = 1-6 months\n",
    "  - 6 - 12 Bulan = 7-12 months \n",
    "  - 1-2 Tahun = 13-24 months\n",
    "  - 2-3 Tahun = 25-36 months\n",
    "  - 3-4 Tahun = 37-48 months\n",
    "  - 4-5 Tahun = 49-60 months\n",
    "  - &gt; 5 tahun = > 60 months\n"
   ]
  },
  {
   "cell_type": "code",
   "execution_count": null,
   "id": "fdf813ba",
   "metadata": {},
   "outputs": [],
   "source": [
    "# expected output : map all not null value in TGL_PSB and TGL_PS to \"Length of Stay Cat\"\n",
    "# make a new column MONTH_DIFF\n",
    "raw_churn['MONTH_DIFF'] = ((raw_churn['TGL_PS'].dt.year - raw_churn['TGL_PSB'].dt.year) * 12) + (raw_churn['TGL_PS'].dt.month - raw_churn['TGL_PSB'].dt.month)\n",
    "\n",
    "# do mapping -> see the map_lenth_of_stay function on python_function folder\n",
    "import sys\n",
    "sys.path.append('../python_function') \n",
    "from length_of_stay_map import map_length_of_stay\n",
    "\n",
    "raw_churn['LENGTH OF STAY CAT'] = map_length_of_stay(raw_churn['MONTH_DIFF'])"
   ]
  }
 ],
 "metadata": {
  "language_info": {
   "name": "python"
  }
 },
 "nbformat": 4,
 "nbformat_minor": 5
}

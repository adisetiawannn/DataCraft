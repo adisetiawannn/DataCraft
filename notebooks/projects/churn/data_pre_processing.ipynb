{
 "cells": [
  {
   "cell_type": "markdown",
   "id": "a427e9b1",
   "metadata": {},
   "source": [
    "# **TELCO CHURN PREDICTION**"
   ]
  },
  {
   "cell_type": "markdown",
   "id": "290ded8c",
   "metadata": {},
   "source": [
    "## **A. All Packages be used on this project**"
   ]
  },
  {
   "cell_type": "code",
   "execution_count": 3,
   "id": "d1b4f77e",
   "metadata": {},
   "outputs": [],
   "source": [
    "# packages\n",
    "import warnings\n",
    "warnings.filterwarnings('ignore')\n",
    "\n",
    "import pandas as pd\n",
    "import numpy as np\n",
    "import matplotlib.pyplot as plt\n",
    "from sklearn.model_selection import train_test_split\n",
    "from sklearn.linear_model import LinearRegression\n",
    "from sklearn.metrics import mean_squared_error, r2_score\n"
   ]
  },
  {
   "cell_type": "markdown",
   "id": "b1b2b58e",
   "metadata": {},
   "source": [
    "## **B. DATASET**"
   ]
  },
  {
   "cell_type": "code",
   "execution_count": 4,
   "id": "4e9e838c",
   "metadata": {},
   "outputs": [],
   "source": [
    "# load dataset\n",
    "from dotenv import load_dotenv\n",
    "import os\n",
    "load_dotenv()  \n",
    "\n",
    "# 1. LIS_dataset -> main dataset\n",
    "lis_dataset = os.getenv(\"lis_dataset_path\")\n",
    "df_lis = pd.read_excel(lis_dataset, sheet_name=\"lis_telco\")\n",
    "\n",
    "# 2. churn_dataset -> main dataset\n",
    "churn_dataset = os.getenv(\"churn_dataset_path\")\n",
    "df_churn = pd.read_excel(churn_dataset, sheet_name=\"Sheet1\")\n",
    "\n",
    "# 3. Unbill Dataset -> main dataset\n",
    "# 3.1 Unbill New\n",
    "unbill_new_dataset = os.getenv(\"unbill_new_path\")\n",
    "df_unbill_new = pd.read_excel(unbill_new_dataset, sheet_name=\"ct0_new\")\n",
    "\n",
    "# 3.2 Unbill old \n",
    "unbill_old_dataset = os.getenv(\"unbill_old_path\")\n",
    "df_unbill_old = pd.read_excel(unbill_old_dataset, sheet_name=\"ct0_old\")\n",
    "\n",
    "# 4. Customer Payment Habit -> support dataset\n",
    "habit_bayar_dataset = os.getenv(\"habit_bayar_dataset_path\")\n",
    "df_habit_bayar = pd.read_excel(habit_bayar_dataset, sheet_name=\"Export Worksheet\")\n",
    "\n",
    "# 5 Territory Mapping\n",
    "territory_map_path = os.getenv(\"territory_map_path\")\n",
    "df_territory_map = pd.read_excel(territory_map_path, sheet_name=\"dim_telda_bill\")\n"
   ]
  },
  {
   "cell_type": "markdown",
   "id": "0e54d9e9",
   "metadata": {},
   "source": [
    "## **C. DATA PRE-PROCESSING**"
   ]
  },
  {
   "cell_type": "markdown",
   "id": "cddca5b4",
   "metadata": {},
   "source": [
    "### **C.1 LIS DATASET**"
   ]
  },
  {
   "cell_type": "markdown",
   "id": "8ee0368e",
   "metadata": {},
   "source": [
    "#### **C.1.1 DATA CLEANING**"
   ]
  },
  {
   "cell_type": "markdown",
   "id": "07649434",
   "metadata": {},
   "source": [
    "In this section, we applied several filtering steps to ensure the dataset is relevant for churn analysis:\n",
    "  - Removed irrelevant columns that don't contribute to churn prediction.\n",
    "  - Filtered out non-RBS customers by keeping only rows where UNIT2 == 'RBS'.\n",
    "  - Excluded entries where DAPROS_ALL == 'WMS', as they fall outside the scope of our analysis."
   ]
  },
  {
   "cell_type": "code",
   "execution_count": 5,
   "id": "b172e5dc",
   "metadata": {},
   "outputs": [],
   "source": [
    "raw_lis = df_lis.copy()\n",
    "\n",
    "# 1. drop unecessary columns\n",
    "raw_lis = raw_lis.drop(columns=['KW_IH','AMBANG','NCLI','CITEM','PRODTYPE','IS_INDIHOME','CEK_WICO','UNIT','CEK_LGEST','INET_BASIC','LGEST','PACK_NAME','PLBLCL','Rev (Rp M)','TREMS_REV_P','ADDON','ALAMAT','AMBANG2','ASSET_ROWID','BA_ROWID','BLN_TGK','CA_ROWID','Calculation2','CEK_CGEST','CEK_2P','CEK_3P','CEK_HSIE','CEK_HSSP','CEK_HSSP (copy)','CEK_LOY','CEK_P_HSI','CEK_TO','CGEST','CITEM_EXT','EKOSISTEM','EMAIL','F_PRIORITY','F_PRIORITY_DESC','GROUP_HSIE','GROUP_PRO_HW','GRP_PRODUK','HARGA_HSI','HARGA_ONT','HSIE RECOM','HSSP RECOM','IHOME_INV','INET_OTHERS','IPSTATIC','JKW1','JKW2','JKW3','JKW4','KET_MIGRASI','KET_RESL','KET_SELLER','KW_IH2','KW_POTS','KW_UM_TXT','KW_UMUR','L_AMBANG','L_KW_UMUR','LINECATS_ITEM_ID','LINKAR','LOY_PROGRAM','NAMA','NAMA_AM','ND_REFERENCE','NDOS','NIK_AM','NIPNAS','NO_HP','P_DIGITAL','PKW1','PKW2','PKW3','PKW4','PRIO_MIG','PRIORITAS_MIG','PRIORITY','PRODUK2','REALM','RECOM_DIGI','REV (Jt)','REV INET(M)','REV VOICE (M)','REV_TXT','REV(M)','REVENUE_ADDON_INET','REVENUE_ADDON_TV','REVENUE_INET','REVENUE_TV','RID','ROOT_ASSET_ID','SELISIH','SELISIH2','SPEED','TAG_OTHER','TAHUN_PS','TECHNO','titik','TOT_TGK','TREMS_REV','TREMS_REV_REF','UNIT (copy)','UMUR PLG (Th)'],axis=1)\n",
    "\n",
    "\n",
    "# 2. drop rows with not RBS values in ['UNIT2']\n",
    "raw_lis =raw_lis[raw_lis['UNIT2'] == \"RBS\"]\n",
    "\n",
    "# 3. drop rows with WMS values in ['DAPROS']\n",
    "raw_lis =raw_lis[raw_lis['DAPROS_ALL'] != \"WMS\"]"
   ]
  },
  {
   "cell_type": "markdown",
   "id": "05820976",
   "metadata": {},
   "source": [
    "#### **C.2.2 MISSING VALUES HANDLING**"
   ]
  },
  {
   "cell_type": "markdown",
   "id": "509d5e11",
   "metadata": {},
   "source": [
    "In this step, we handled missing values for several key columns:\n",
    "\n",
    "For the following columns: ADDON_PRICE, ADDON_TOTAL, IS_IPTV, and IS_POTS,\n",
    "we replaced all missing values with 0 to ensure consistency and avoid issues during model training.\n",
    "This approach assumes that missing values in these fields likely indicate the absence of the respective feature."
   ]
  },
  {
   "cell_type": "code",
   "execution_count": 6,
   "id": "088cab91",
   "metadata": {},
   "outputs": [],
   "source": [
    "# missing values handling\n",
    "\n",
    "# 1. missing values in ['ADDON_PRICE'] will be replaced with 0\n",
    "raw_lis['ADDON_PRICE'] = raw_lis['ADDON_PRICE'].fillna(0)\n",
    "\n",
    "# 2. missing values in ['ADDON_TOTAL'] will be replaced with 0\n",
    "raw_lis['ADDON_TOTAL'] = raw_lis['ADDON_TOTAL'].fillna(0)\n",
    "\n",
    "# 3. missing values in ['IS_IPTV'] will be replaced with 0\n",
    "raw_lis['IS_IPTV'] = raw_lis['IS_IPTV'].fillna(0)\n",
    "\n",
    "# 4. missing values in ['IS_POTS'] will be replaced with 0\n",
    "raw_lis['IS_POTS'] = raw_lis['IS_POTS'].fillna(0)\n"
   ]
  },
  {
   "cell_type": "markdown",
   "id": "17c9c5a7",
   "metadata": {},
   "source": [
    "#### **C.2.3 DATA FORMATTING & TRANSFORMING**"
   ]
  },
  {
   "cell_type": "markdown",
   "id": "d8324adb",
   "metadata": {},
   "source": [
    "In this section, we cleaned up some formatting issues and applied a few transformations to make the data more consistent and usable:\n",
    "\n",
    "  - Formatted TGL_PS as a proper date column.\n",
    "  - Converted NOTEL to string type to ensure consistency in customer identifiers.\n",
    "  - Transformed BW by replacing 'BW_NULL' values with 0, then converted the column to int64.\n",
    "  - Handled duplicates by dropping rows with the same NOTEL, keeping only the one with the smallest value in UMUR_PSB.\n",
    "  - Adjusted LOS by adding +1 to each value, since we want to calculate the length of subscription in months (starting from month 1 instead of 0)."
   ]
  },
  {
   "cell_type": "code",
   "execution_count": 7,
   "id": "0497f73b",
   "metadata": {},
   "outputs": [],
   "source": [
    "# data formatting\n",
    "\n",
    "# 1. convert 'TGL_PS' from object to date\n",
    "raw_lis['TGL_PS'] = pd.to_datetime(raw_lis['TGL_PS'], format='%m/%d/%Y %I:%M:%S %p')\n",
    "\n",
    "# 2.1 Remove '_DEL' substring from NOTEL values\n",
    "raw_lis['NOTEL'] = raw_lis['NOTEL'].astype(str).str.replace('_DEL', '', regex=False)\n",
    "# 2.2 Convert NOTEL to numeric (string)\n",
    "raw_lis['NOTEL'] = pd.to_numeric(raw_lis['NOTEL'], errors='coerce').astype(str)\n",
    "\n",
    "# 3. transform ['Speed (MBps)'] == 'BW_NULL' as 0\n",
    "raw_lis['Speed (MBps)'] = raw_lis.loc[raw_lis['Speed (MBps)'] == 'BW_NULL', 'Speed (MBps)'] = 0\n",
    "\n",
    "# 4.1 Remove '_DEL' substring from NOTEL values\n",
    "raw_lis['NOTEL'] = raw_lis['NOTEL'].astype(str).str.replace('_DEL', '', regex=False)\n",
    "\n",
    "# 4.2 Convert NOTEL to numeric (str)\n",
    "raw_lis['NOTEL'] = pd.to_numeric(raw_lis['NOTEL'], errors='coerce').astype(str)\n",
    "\n",
    "# 5. drop duplicate rows based on NOTEL and keep only the row with the smallest value in ['UMUR_PSB']\n",
    "raw_lis = raw_lis.sort_values('UMUR_PSB').drop_duplicates(subset=['NOTEL'], keep='first')\n",
    "\n",
    "# 6. Transforming LOS -> values should be +1 \n",
    "raw_lis['LOS'] = raw_lis['LOS'] + 1\n",
    "\n"
   ]
  },
  {
   "cell_type": "markdown",
   "id": "463b0b85",
   "metadata": {},
   "source": [
    "#### **C.2.4 DATASET FINALIZATION**"
   ]
  },
  {
   "cell_type": "code",
   "execution_count": 8,
   "id": "841acc48",
   "metadata": {},
   "outputs": [],
   "source": [
    "# 1. Generate Dataset\n",
    "df_lis_final = raw_lis[['NOTEL','ASSET_STATUS','KW_INET','TELDA','WITEL','ARPU','BW','IS_IPTV','PERIOD_PS','UMUR_PSB','PERIOD','LOS','STO']].copy()\n",
    "\n",
    "# 2. rename columns name\n",
    "df_lis_final = df_lis_final.rename(columns={\n",
    "    'NOTEL': 'SND',\n",
    "    'ASSET_STATUS': 'CHURN_FLAG',\n",
    "    'KW_INET': 'KWADRAN',\n",
    "    'TELDA': 'TELDA',\n",
    "    'WITEL': 'WITEL',\n",
    "    'ARPU': 'ARPU',\n",
    "    'BW': 'SPEED',\n",
    "    'IS_IPTV': 'IPTV_FLAG',\n",
    "    'PERIOD_PS': 'MONTH_PS',\n",
    "    'PERIOD': 'LAST_ACTIVE',\n",
    "    'LOS': 'TENURE_MONTH',\n",
    "    'STO': 'STO',\n",
    "})\n",
    "\n",
    "# 3. Transforming ['SPEED'] \n",
    "# Remove 'BW_' and 'M' from 'SPEED' column, keep only the number, NULL replaced with 0\n",
    "df_lis_final['SPEED'] = (\n",
    "    df_lis_final['SPEED']\n",
    "    .str.replace(r'BW_|M|<', '', regex=True)\n",
    "    .str.replace(' ', '') # remove all spaces\n",
    "    .str.strip() ) # remove leading/trailing spaces if any remain\n",
    "\n",
    "df_lis_final['SPEED'] = df_lis_final['SPEED'].str.replace(r'<10', '10', regex=True).str.strip()\n",
    "df_lis_final['SPEED'] = df_lis_final['SPEED'].str.replace(r'NULL', '0', regex=True).str.strip()\n",
    "\n",
    "# 4. Convert ['SPEED'] datatype into float\n",
    "df_lis_final['SPEED'] = df_lis_final['SPEED'].astype('float64')\n"
   ]
  },
  {
   "cell_type": "markdown",
   "id": "87eb8755",
   "metadata": {},
   "source": [
    "### **C.2 CHURN DATASET**"
   ]
  },
  {
   "cell_type": "markdown",
   "id": "896c08e6",
   "metadata": {},
   "source": [
    "#### **C.2.1 DATA CLEANING**\n",
    "\n",
    "In this section, we removed columns that are not relevant to churn analysis. This helps simplify the dataset and ensures that the model focuses only on meaningful features."
   ]
  },
  {
   "cell_type": "code",
   "execution_count": 9,
   "id": "4275890b",
   "metadata": {},
   "outputs": [],
   "source": [
    "raw_churn = df_churn.copy()\n",
    "\n",
    "# 1. drop columns that are not relevant to churn analysis\n",
    "raw_churn = raw_churn.drop(columns=['L_EKOSISTEM','PRODUK','REGIONAL (NEW_TERRITORY)','TAHUN','DIVISI','HSI_B2B','ND_HSI_IPTV','NCLI','CHANNEL','L_CHANNEL'],axis=1)\n",
    "\n",
    "# 2. Drop WMS values in ['PRODUK']\n",
    "raw_churn = raw_churn[raw_churn['L_PRODUK'] != 'WMS']"
   ]
  },
  {
   "cell_type": "markdown",
   "id": "14b68f01",
   "metadata": {},
   "source": [
    "#### **C.2.2 DATA FORMATTING**"
   ]
  },
  {
   "cell_type": "markdown",
   "id": "d92feeaa",
   "metadata": {},
   "source": [
    "In this section, we fixed incorrectly formatted data types and applied a few transformations to improve data quality: \n",
    " - Formatted TGL_PSB and TGL_PS: These columns were originally stored as numeric values, so we converted them into proper date formats.\n",
    " - Converted SPEEDY to string type to ensure consistent formatting.\n",
    " - Transformed UBIS: Replaced values labeled as \"Business\" with \"RBS\" to align with our segmentation.\n",
    " - Created a new feature MONTH_PS: This column represents the subscription month in YYYYMM format, derived from TGL_PSB "
   ]
  },
  {
   "cell_type": "code",
   "execution_count": 12,
   "id": "aea61996",
   "metadata": {},
   "outputs": [],
   "source": [
    "# Date Handling\n",
    "\n",
    "# 1. convert raw_churn[['TGL_PSB','TGL_PS']] to datetime\n",
    "raw_churn['TGL_PSB'] = pd.to_datetime(raw_churn['TGL_PSB'], format='%Y%m%d')\n",
    "raw_churn['TGL_PS'] = pd.to_datetime(raw_churn['TGL_PS'], format='%Y%m%d')\n",
    "\n",
    "# 2. Convert['SPEEDY'] as string\n",
    "raw_churn['SPEEDY'] = raw_churn['SPEEDY'].astype(str)\n",
    "\n",
    "# 3. Transform [DIVISI] == 'Business' as 'RBS'\n",
    "raw_churn['UBIS'] = raw_churn.loc[raw_churn['UBIS'] == 'Business', 'DIVISI'] = 'RBS'\n",
    "\n",
    "# 4. Add new Feature ['MONTH_PS'], values filled from extraction of YYYYMM ['TGL_PSB']\n",
    "raw_churn['MONTH_PSB'] = raw_churn['TGL_PSB'].dt.strftime('%Y%m').astype('Int64')"
   ]
  },
  {
   "cell_type": "markdown",
   "id": "81903a4c",
   "metadata": {},
   "source": [
    "#### **C.2.3 DATASET FINALIZATION**"
   ]
  },
  {
   "cell_type": "code",
   "execution_count": 14,
   "id": "8273ba24",
   "metadata": {},
   "outputs": [],
   "source": [
    "# generate final churn dataset\n",
    "df_churn_final = raw_churn[['SPEEDY','MONTH_PSB','CITEM','WITEL (NEW_TERRITORY)','TELKOM_DAERAH','STO','IS_IPTV','SSL_DO','PERIODE']]\n",
    "\n",
    "# 2. Rename columns in df_churn_final\n",
    "df_churn_final = df_churn_final.rename(columns={\n",
    "    'SPEEDY': 'SND',\n",
    "    'MONTH_PSB': 'MONTH_PS',\n",
    "    'MONTH_DIFF': 'TENURE_MONTH',\n",
    "    'CITEM': 'SPEED',\n",
    "    'WITEL (NEW_TERRITORY)': 'WITEL',\n",
    "    'TELKOM_DAERAH': 'TELDA',\n",
    "    'STO': 'STO',\n",
    "    'IS_IPTV': 'IPTV_FLAG',\n",
    "    'SSL_DO': 'CHURN_FLAG',\n",
    "    'PERIODE' : 'LAST_ACTIVE'\n",
    "})\n",
    "\n",
    "# 3. Data Type Format\n",
    "df_churn_final['CHURN_FLAG'] = df_churn_final['CHURN_FLAG'].astype(bool)\n",
    "\n",
    "# 4. Add New Feature = 'KWADRAN' == Churn == 1 (no bill & no usage)\n",
    "df_churn_final['KWADRAN'] = 1\n",
    "\n",
    "# 5. Keep only the number from the 'SPEED' column, set to NaN if no number found\n",
    "df_churn_final['SPEED'] = df_churn_final['SPEED'].astype(str).str.extract(r'(\\d+)', expand=False).astype(float).fillna(0)\n",
    "df_churn_final.loc[df_churn_final['SPEED']>300,['SPEED']] = df_churn_final.loc[df_churn_final['SPEED']>300,['SPEED']] / 1000\n",
    "df_churn_final.loc[df_churn_final['SPEED'] < 10, 'SPEED'] = 0\n",
    "df_churn_final.loc[df_churn_final['SPEED'] == 15, 'SPEED'] = 20\n",
    "\n",
    "# 6. add new feature 'ARPU' based on SPEED-ARPU mapping in df_lis_final\n",
    "mapping_arpu = df_lis_final[['SPEED','ARPU']].groupby('SPEED').agg({'ARPU': 'mean'}).sort_values(by='ARPU', ascending=False)\n",
    "\n",
    "df_churn_final = df_churn_final.merge(mapping_arpu, how='left', left_on='SPEED',right_on='SPEED', suffixes=('', '_ARPU'))"
   ]
  },
  {
   "cell_type": "markdown",
   "id": "f9d9c343",
   "metadata": {},
   "source": [
    "### **C.3 UNBILL DATASET**"
   ]
  },
  {
   "cell_type": "markdown",
   "id": "5e52c477",
   "metadata": {},
   "source": [
    "#### **C.3.1 DATA MERGING**"
   ]
  },
  {
   "cell_type": "markdown",
   "id": "6b753193",
   "metadata": {},
   "source": [
    "In this section, we started by merging two unbill datasets into a single, unified dataset. This step helps simplify the data pipeline and ensures we have a complete view of all unbill records for churn labeling."
   ]
  },
  {
   "cell_type": "code",
   "execution_count": 19,
   "id": "63538a8b",
   "metadata": {},
   "outputs": [],
   "source": [
    "# merged unbill dataset\n",
    "raw_unbill = pd.concat([df_unbill_new, df_unbill_old], ignore_index=True)"
   ]
  },
  {
   "cell_type": "markdown",
   "id": "2744d4bb",
   "metadata": {},
   "source": [
    "#### **C.3.2 DATA CLEANING**"
   ]
  },
  {
   "cell_type": "markdown",
   "id": "3f3283fa",
   "metadata": {},
   "source": [
    "In this section, we chose to drop columns that are not relevant to churn prediction. This helps streamline the dataset and ensures the model focuses only on meaningful features."
   ]
  },
  {
   "cell_type": "code",
   "execution_count": 20,
   "id": "a468cbfe",
   "metadata": {},
   "outputs": [],
   "source": [
    "# drop not relevant columns\n",
    "raw_unbill = raw_unbill.drop(columns=['JML LYN','AGENT','AGENT_ID','ALAMAT','Bisnis Area','CCA','Centite','CHANNEL_OK','CUSTOMER_NAME','Datms','Datrs','DEPOSIT','Divisi','JML_BLN_BAYAR','JML_BLN_NUNGGAK','KCONTACT','NAMA_AGENT','NAMA_CONTACT','NCLI','NIPNAS','NO_CONTACT','Number of Records','OLD_TREG','OLD_WITEL','ORDER_NO','Paket Fbip','Paket Speedy Desc','Pemakaian','STANDARD_NAME','Segmen','Status','Subsegmen','Total','Total Lalu (M)','Total Net','Total Net Lalu','Type Pohon','Ubis','Witel','TAHUN','Abonemen','Abonemen Lalu','Debit','LAST_BAYAR','LAST_PERIODE','PPN','Ppn Lalu','TAHUN PS'])\n",
    "\n",
    "raw_unbill = raw_unbill[raw_unbill['Indihome Desc'] != 'WMS']"
   ]
  },
  {
   "cell_type": "markdown",
   "id": "b74de098",
   "metadata": {},
   "source": [
    "#### **C.3.3 DATA FORMATTING & TRANSFORMATION**"
   ]
  },
  {
   "cell_type": "markdown",
   "id": "8c2b8286",
   "metadata": {},
   "source": [
    "In this section, we fixed a formatting issue in the dataset: Converted SND to string type to ensure consistent formatting across all records."
   ]
  },
  {
   "cell_type": "code",
   "execution_count": 21,
   "id": "0e226266",
   "metadata": {},
   "outputs": [],
   "source": [
    "# 1. format ['SND'] as string\n",
    "raw_unbill['SND'] = raw_unbill['SND'].astype(str)"
   ]
  },
  {
   "cell_type": "markdown",
   "id": "5ccdea85",
   "metadata": {},
   "source": [
    "#### **C.3.4 FEATURE ENGINEERING**\n",
    "\n",
    "In this section, we created new features and transformed existing ones to help the model better understand customer behavior and patterns related to churn."
   ]
  },
  {
   "cell_type": "code",
   "execution_count": 22,
   "id": "300089ab",
   "metadata": {},
   "outputs": [],
   "source": [
    "# 1. Add new Feature 'FLAG_IPTV' as IPTV or not IPTV when ['Bundling'] == '3P' or ['Indihome Desc'] == 'INET_TV'\n",
    "raw_unbill.loc[raw_unbill['Bundling'] == '3P', ['FLAG_IPTV']]  = \"IPTV\"\n",
    "raw_unbill.loc[raw_unbill['Indihome Desc'] == 'INET_TV', ['FLAG_IPTV']]  = \"IPTV\"\n",
    "raw_unbill['FLAG_IPTV'].fillna('NOT IPTV')\n",
    "\n",
    "# 2. add new feature 'STO' as first 3 characters of 'Sto Desc'\n",
    "raw_unbill['STO'] = raw_unbill['Sto Desc'].str[:3]"
   ]
  },
  {
   "cell_type": "markdown",
   "id": "a5d81485",
   "metadata": {},
   "source": [
    "#### **C.3.5 MISSING VALUE HANDLING**"
   ]
  },
  {
   "cell_type": "markdown",
   "id": "7b957e55",
   "metadata": {},
   "source": [
    "In this section, we handled missing values more selectively across several features:\n",
    "\n",
    "  - Witel Bill → filled missing values by mapping from Datel, using a predefined mapping between Datel and Witel.\n",
    "  - SND, BULAN PS, and Group Portfolio → rows with missing values in these columns were dropped, as they are considered essential for the analysis."
   ]
  },
  {
   "cell_type": "code",
   "execution_count": 23,
   "id": "c3ee6263",
   "metadata": {},
   "outputs": [],
   "source": [
    "# 1. ['Witel Bill'] -> missing values should be filled utilizing datel values (mapped witel based on datel)\n",
    "raw_unbill = raw_unbill.merge(df_territory_map[['ID_TELDA_BILL', 'WITEL','TELDA_BILL']], left_on='Datel', right_on='ID_TELDA_BILL', how='left').drop(columns=['Witel Bill'])\n",
    "\n",
    "# 2. ['SND'] -> with missing values should be dropped\n",
    "raw_unbill = raw_unbill.dropna(subset=['SND'])\n",
    "\n",
    "# 3. ['BULAN PS'] -> with missing values should be dropped\n",
    "raw_unbill = raw_unbill.dropna(subset=['BULAN PS'])\n",
    "\n",
    "# 4. ['Group Portfolio'] -> with missing values should be dropped\n",
    "raw_unbill = raw_unbill.dropna(subset=['Group Portfolio'])"
   ]
  },
  {
   "cell_type": "markdown",
   "id": "cdcd6396",
   "metadata": {},
   "source": [
    "#### **C.3.6 DATASET FINALIZATION**"
   ]
  },
  {
   "cell_type": "code",
   "execution_count": 24,
   "id": "e69edcfa",
   "metadata": {},
   "outputs": [],
   "source": [
    "# 1. Generate Dataset\n",
    "df_unbill_final = raw_unbill[['SND','WITEL','TELDA_BILL','BULAN PS','Umur Plg','Total Lalu','FLAG_IPTV','Usage Desc','Nper','STO']].copy()\n",
    "\n",
    "# 2. Add New Feature = 'KWADRAN' == unbilll == 1\n",
    "df_unbill_final['KWADRAN'] = 1\n",
    "\n",
    "# 3. Add New Feature = 'SPEED' that value is based 'SPEED' from df_lis_final\n",
    "df_unbill_final = df_unbill_final.merge(df_lis_final[['SND','SPEED']],how='left', on='SND', suffixes=('', '_LIS'))\n",
    "\n",
    "# 4. Rename feature names\n",
    "df_unbill_final = df_unbill_final.rename(columns={\n",
    "    'TELDA_BILL': 'TELDA',\n",
    "    'BULAN PS' : 'MONTH_PS',\n",
    "    'Umur Plg': 'TENURE_MONTH',\n",
    "    'Usage Desc': 'CHURN_FLAG',\n",
    "    'Nper': 'LAST_ACTIVE',\n",
    "    'KWADRAN': 'KWADRAN',\n",
    "    'SPEED': 'SPEED',\n",
    "    'STO': 'STO',\n",
    "    'FLAG_IPTV': 'IPTV_FLAG',\n",
    "    'Total Lalu': 'ARPU'\n",
    "})"
   ]
  },
  {
   "cell_type": "markdown",
   "id": "906b5b4d",
   "metadata": {},
   "source": [
    "### **C.4 PAYMENT HABIT DATASET**"
   ]
  },
  {
   "cell_type": "markdown",
   "id": "564ce177",
   "metadata": {},
   "source": [
    "#### **C.4.1 DATA CLEANING**"
   ]
  },
  {
   "cell_type": "markdown",
   "id": "96bfbb96",
   "metadata": {},
   "source": [
    "In this section, we reduced the dataset by applying several filters to focus only on relevant data for churn prediction:\n",
    "\n",
    "  - Dropped columns that are not useful for churn analysis.\n",
    "  - Removed non-SME customers, keeping only entries from the SME segment.\n",
    "  - Excluded records where the service type is TLP, as they fall outside the scope of our analysis."
   ]
  },
  {
   "cell_type": "code",
   "execution_count": 15,
   "id": "fc369761",
   "metadata": {},
   "outputs": [],
   "source": [
    "raw_payment_habit = df_habit_bayar.copy()\n",
    "\n",
    "# 1. Drop columns that are not relevant to churn analysis\n",
    "raw_payment_habit = raw_payment_habit.drop(columns=['ACCOUNT_NUM','ABONTAG','IDBA','CCAT','CENTITE','NAMA','ALAMAT','CCA','DATRS','NCLI','LGEST','CP','STATUS_BILL','TGL_KLAIM','LAYANAN','JHARI'],axis=1)\n",
    "\n",
    "# 2. drop rows with not RBS values in ['SEGMEN']\n",
    "raw_payment_habit = raw_payment_habit.loc[raw_payment_habit['SEGMEN'] == 'RBS',]\n",
    "\n",
    "# 3. drop rows with  TLP values in ['PRODUK']\n",
    "raw_payment_habit = raw_payment_habit.loc[raw_payment_habit['PRODUK'] != 'TLP',]"
   ]
  },
  {
   "cell_type": "markdown",
   "id": "506b535b",
   "metadata": {},
   "source": [
    "#### **C.4.2 DATA TRANSFORMATION**"
   ]
  },
  {
   "cell_type": "markdown",
   "id": "7cc60f9e",
   "metadata": {},
   "source": [
    "In this section, we applied a few transformations related to customer payment behavior:\n",
    "\n",
    "  - Transformed BUNDLING values: If BUNDLING == 2P and both LAYANAN_TV and SND_GROUP are not null, we updated the value to 3P to reflect a more complete service bundle.\n",
    "  - Formatted SND: Converted the column to int64 to ensure consistent numeric formatting."
   ]
  },
  {
   "cell_type": "code",
   "execution_count": 17,
   "id": "38f5b0d2",
   "metadata": {},
   "outputs": [],
   "source": [
    "# Data Transforming\n",
    "\n",
    "# 1. transform ['BUNDLING'] == '2P' and ['LAYANAN_TV'] is not null and ['SND_GROUP'] is not null as '3P'\n",
    "raw_payment_habit['BUNDLING'] = raw_payment_habit.loc[(raw_payment_habit['BUNDLING'] == '2P') & (~raw_payment_habit['LAYANAN_TV'].isnull()) & (~raw_payment_habit['SND_GROUP'].isnull()), ['BUNDLING']]= '3P'\n",
    "\n",
    "# Data Formatting\n",
    "# 2. convert ['SND'] from object to string\n",
    "raw_payment_habit['SND'] = raw_payment_habit['SND'].astype(str)"
   ]
  },
  {
   "cell_type": "markdown",
   "id": "9ac38fc1",
   "metadata": {},
   "source": [
    "#### **C.4.3 MISSING VALUE HANDLING**"
   ]
  },
  {
   "cell_type": "markdown",
   "id": "a3840725",
   "metadata": {},
   "source": [
    "In this section, we handled missing values across several important features to ensure data consistency:\n",
    "\n",
    "  - EKSEPSI → replaced missing values with \"N\".\n",
    "  - USAGETAG, TIKET_C, TIKET_D, RP_BAYAR, and RP_KLAIM → replaced missing values with 0.\n",
    "  - IS_PRANPC → replaced missing values with \"NOT PRANPC\" to indicate customers not in the PRANPC category.\n",
    "\n",
    "These replacements help maintain data integrity and prevent issues during model training."
   ]
  },
  {
   "cell_type": "code",
   "execution_count": 18,
   "id": "1e7dfa15",
   "metadata": {},
   "outputs": [],
   "source": [
    "# Missing Value Handling\n",
    "\n",
    "# 1. missing values in ['EKSEPSI'] will be replaced with N\n",
    "raw_payment_habit['EKSEPSI'] = raw_payment_habit['EKSEPSI'].fillna('N')\n",
    "\n",
    "# 2. missing values in ['USAGETAG'] will be replaced with 0\n",
    "raw_payment_habit['USAGETAG'] = raw_payment_habit['USAGETAG'].fillna(0)\n",
    "\n",
    "# 3. missing values in ['TIKET_C'] will be replaced with 0\n",
    "raw_payment_habit['TIKET_C'] = raw_payment_habit['TIKET_C'].fillna(0)\n",
    "\n",
    "# 4. missing values in ['TIKET_D'] will be replaced with 0\n",
    "raw_payment_habit['TIKET_D'] = raw_payment_habit['TIKET_D'].fillna(0)\n",
    "\n",
    "# 5. missing values in ['IS_PRANPC'] will be replaced with 0\n",
    "raw_payment_habit['IS_PRANPC'] = raw_payment_habit['IS_PRANPC'].fillna('NOT PRANPC')\n",
    "\n",
    "# 6. missing values in ['RP_BAYAR'] will be replaced with 0\n",
    "raw_payment_habit['RP_BAYAR'] = raw_payment_habit['RP_BAYAR'].fillna(0)\n",
    "\n",
    "# 7. missing values in ['RP_KLAIM'] will be replaced with 0\n",
    "raw_payment_habit['RP_KLAIM'] = raw_payment_habit['RP_KLAIM'].fillna(0)"
   ]
  },
  {
   "cell_type": "markdown",
   "id": "a1f25f41",
   "metadata": {},
   "source": [
    "# **DATASET FINAL BANGET**"
   ]
  },
  {
   "cell_type": "code",
   "execution_count": 25,
   "id": "fe7458aa",
   "metadata": {},
   "outputs": [],
   "source": [
    "# generate fix dataset\n",
    "\n",
    "# 1. sort df_list_final features as df_churn_final\n",
    "df_lis_final = df_lis_final[['SND','MONTH_PS','TENURE_MONTH','SPEED','WITEL','TELDA','STO','IPTV_FLAG','CHURN_FLAG','LAST_ACTIVE','KWADRAN','ARPU']]\n",
    "\n",
    "# 2. sort df_unbill_final features as df_churn_final\n",
    "df_unbill_final = df_unbill_final[['SND','MONTH_PS','TENURE_MONTH','SPEED','WITEL','TELDA','STO','IPTV_FLAG','CHURN_FLAG','LAST_ACTIVE','KWADRAN','ARPU']]\n",
    "\n",
    "# 3. vertical stack all three dataframe\n",
    "df_churn_prediction = pd.concat([df_churn_final, df_lis_final, df_unbill_final], axis=0).reset_index(drop=True)"
   ]
  },
  {
   "cell_type": "code",
   "execution_count": 26,
   "id": "71ce3613",
   "metadata": {},
   "outputs": [],
   "source": [
    "# save dataset\n",
    "df_churn_prediction.to_excel('df_churn_prediction.xlsx', index=False)"
   ]
  },
  {
   "cell_type": "code",
   "execution_count": 27,
   "id": "45bdb799",
   "metadata": {},
   "outputs": [
    {
     "data": {
      "application/vnd.microsoft.datawrangler.viewer.v0+json": {
       "columns": [
        {
         "name": "index",
         "rawType": "object",
         "type": "string"
        },
        {
         "name": "0",
         "rawType": "bool",
         "type": "boolean"
        }
       ],
       "ref": "46a767fa-292e-43ef-8040-bbaf76f00d06",
       "rows": [
        [
         "SND",
         "False"
        ],
        [
         "MONTH_PS",
         "True"
        ],
        [
         "SPEED",
         "True"
        ],
        [
         "WITEL",
         "False"
        ],
        [
         "TELDA",
         "False"
        ],
        [
         "STO",
         "True"
        ],
        [
         "IPTV_FLAG",
         "True"
        ],
        [
         "CHURN_FLAG",
         "True"
        ],
        [
         "LAST_ACTIVE",
         "False"
        ],
        [
         "KWADRAN",
         "False"
        ],
        [
         "ARPU",
         "False"
        ],
        [
         "TENURE_MONTH",
         "True"
        ]
       ],
       "shape": {
        "columns": 1,
        "rows": 12
       }
      },
      "text/plain": [
       "SND             False\n",
       "MONTH_PS         True\n",
       "SPEED            True\n",
       "WITEL           False\n",
       "TELDA           False\n",
       "STO              True\n",
       "IPTV_FLAG        True\n",
       "CHURN_FLAG       True\n",
       "LAST_ACTIVE     False\n",
       "KWADRAN         False\n",
       "ARPU            False\n",
       "TENURE_MONTH     True\n",
       "dtype: bool"
      ]
     },
     "execution_count": 27,
     "metadata": {},
     "output_type": "execute_result"
    }
   ],
   "source": [
    "df_churn_prediction.isnull().any(axis=0)"
   ]
  },
  {
   "cell_type": "code",
   "execution_count": 31,
   "id": "7c6c67df",
   "metadata": {},
   "outputs": [],
   "source": [
    "test = df_churn_prediction.merge(df_habit_bayar[['SND','TYPE']],how='left',left_on='SND',right_on='SND',suffixes=('', '_HABIT'))"
   ]
  },
  {
   "cell_type": "code",
   "execution_count": 32,
   "id": "92b71632",
   "metadata": {},
   "outputs": [
    {
     "name": "stdout",
     "output_type": "stream",
     "text": [
      "<class 'pandas.core.frame.DataFrame'>\n",
      "RangeIndex: 201329 entries, 0 to 201328\n",
      "Data columns (total 13 columns):\n",
      " #   Column        Non-Null Count   Dtype  \n",
      "---  ------        --------------   -----  \n",
      " 0   SND           201329 non-null  object \n",
      " 1   MONTH_PS      201188 non-null  Float64\n",
      " 2   TENURE_MONTH  201188 non-null  float64\n",
      " 3   SPEED         149982 non-null  float64\n",
      " 4   WITEL         201329 non-null  object \n",
      " 5   TELDA         201329 non-null  object \n",
      " 6   STO           201328 non-null  object \n",
      " 7   IPTV_FLAG     145956 non-null  object \n",
      " 8   CHURN_FLAG    199482 non-null  object \n",
      " 9   LAST_ACTIVE   201329 non-null  int64  \n",
      " 10  KWADRAN       201329 non-null  int64  \n",
      " 11  ARPU          191471 non-null  float64\n",
      " 12  TYPE          85871 non-null   object \n",
      "dtypes: Float64(1), float64(3), int64(2), object(7)\n",
      "memory usage: 20.2+ MB\n"
     ]
    }
   ],
   "source": [
    "test.info()"
   ]
  },
  {
   "cell_type": "code",
   "execution_count": 36,
   "id": "95d04fba",
   "metadata": {},
   "outputs": [
    {
     "data": {
      "image/png": "[encoded data removed]",
      "text/plain": [
       "<Figure size 1000x2400 with 6 Axes>"
      ]
     },
     "metadata": {},
     "output_type": "display_data"
    }
   ],
   "source": [
    "import matplotlib.pyplot as plt\n",
    "\n",
    "num_cols = test.select_dtypes(include=['number']).columns.tolist()\n",
    "fig, axes = plt.subplots(nrows=len(num_cols), ncols=1, figsize=(10, 4*len(num_cols)))\n",
    "\n",
    "for i, col in enumerate(num_cols):\n",
    "    ax = axes[i] if len(num_cols) > 1 else axes\n",
    "    test[col].hist(ax=ax, bins=30, color='skyblue', edgecolor='black')\n",
    "    ax.set_title(f'Distribusi {col}')\n",
    "    ax.set_xlabel(col)\n",
    "    ax.set_ylabel('Frekuensi')\n",
    "\n",
    "plt.tight_layout()\n",
    "plt.show()"
   ]
  }
 ],
 "metadata": {
  "kernelspec": {
   "display_name": ".venv",
   "language": "python",
   "name": "python3"
  },
  "language_info": {
   "codemirror_mode": {
    "name": "ipython",
    "version": 3
   },
   "file_extension": ".py",
   "mimetype": "text/x-python",
   "name": "python",
   "nbconvert_exporter": "python",
   "pygments_lexer": "ipython3",
   "version": "3.13.0"
  }
 },
 "nbformat": 4,
 "nbformat_minor": 5
}
